{
 "cells": [
  {
   "cell_type": "code",
   "execution_count": null,
   "id": "0f232779-cf55-4191-9d55-73418c1eed86",
   "metadata": {},
   "outputs": [],
   "source": [
    "#Q. Explain the key features of Python that make it a popular choice for programming.\n",
    "'''\n",
    "1.Readability and Simplicity-It is readble because of its clean syntax and simple also which makes it easy to learn.\n",
    "2.Interpreted Language-Python code is executed directly by the interpreter, saving time during development.\n",
    "3.Dynamic Typing- Variables don't need explicit type declarations.\n",
    "4.Object-Oriented Programming (OOP)-Python allows for creating classes, objects, inheritance, polymorphism, and encapsulation.\n",
    "'''\n"
   ]
  },
  {
   "cell_type": "code",
   "execution_count": 2,
   "id": "915827d8-e5c8-4811-9cd8-3fd5410e548d",
   "metadata": {},
   "outputs": [
    {
     "name": "stdout",
     "output_type": "stream",
     "text": [
      "\n",
      "Here is a list of the Python keywords.  Enter any keyword to get more help.\n",
      "\n",
      "False               class               from                or\n",
      "None                continue            global              pass\n",
      "True                def                 if                  raise\n",
      "and                 del                 import              return\n",
      "as                  elif                in                  try\n",
      "assert              else                is                  while\n",
      "async               except              lambda              with\n",
      "await               finally             nonlocal            yield\n",
      "break               for                 not                 \n",
      "\n"
     ]
    }
   ],
   "source": [
    "#Q. Describe the role of predefined keywords in Python and provide examples of how they are used in a program.\n",
    "'''\n",
    "keywords >> are predefined words that hold a special meaning and have specific purpose in python.\n",
    "'''\n",
    "help('keywords')"
   ]
  },
  {
   "cell_type": "code",
   "execution_count": 3,
   "id": "ab3d28bf-2cbb-43f6-9484-7af254bb2ad7",
   "metadata": {},
   "outputs": [
    {
     "name": "stdin",
     "output_type": "stream",
     "text": [
      "Enter Your Age: 46\n",
      "Are You Married and Have Any Child Y/N: N\n"
     ]
    }
   ],
   "source": [
    "'''\n",
    "and, elif, else, for, if -- these keywords are being used in the following program. This program can be accessed \n",
    "by entering an age value\n",
    "'''\n",
    "age=int(input(\"Enter Your Age:\"))\n",
    "if age>=70:\n",
    "    disease=input(\"Do You Have Any Disease Y/N:\")\n",
    "    if disease==\"N\":\n",
    "        print(\"no disease you are a good budha\")\n",
    "elif 50<=age<70:\n",
    "    money=int(input(\"Enter Your Income:\"))\n",
    "    if money>pow(10,7):\n",
    "        print(\"you are retired\")\n",
    "    elif (5*(pow(10,6)))<=money<=pow(10,7):\n",
    "        print(\"you are working budha\")\n",
    "    else:\n",
    "        print(\"you have just started your career\")\n",
    "elif 20<=age<50:\n",
    "    marries_child=input(\"Are You Married and Have Any Child Y/N:\")\n",
    "    if marries_child==\"Y\" and job==\"Y\":\n",
    "        print(\"you are young\")\n",
    "elif age<20:\n",
    "    job=input(\"Do You Have Any Job Y/N:\")\n",
    "    if job==\"N\":\n",
    "        print(\"you are berojgaar\")\n",
    "else:\n",
    "    print(\"No Category\")\n",
    "    "
   ]
  },
  {
   "cell_type": "code",
   "execution_count": 4,
   "id": "9ef2f7e1-02c5-43a5-b34a-aa06fe7f30fe",
   "metadata": {},
   "outputs": [
    {
     "name": "stdout",
     "output_type": "stream",
     "text": [
      "1\n",
      "2\n"
     ]
    }
   ],
   "source": [
    "'''\n",
    "while, break, if -- these keywords are being used in the following program.\n",
    "'''\n",
    "n=7\n",
    "i=1\n",
    "while i<=n:\n",
    "    print(i)\n",
    "    i+=1\n",
    "    if i==3:\n",
    "        break"
   ]
  },
  {
   "cell_type": "code",
   "execution_count": 5,
   "id": "3fd556fb-db56-44b0-a8e4-372e0059c0aa",
   "metadata": {},
   "outputs": [
    {
     "name": "stdout",
     "output_type": "stream",
     "text": [
      "2\n",
      "4\n",
      "5\n",
      "6\n",
      "7\n",
      "8\n"
     ]
    }
   ],
   "source": [
    "'''\n",
    "while, continue, if -- these keywords are being used in the following program.\n",
    "'''\n",
    "n=7\n",
    "i=1\n",
    "while i<=n:\n",
    "    i+=1\n",
    "    if i==3:\n",
    "        continue\n",
    "    print(i)"
   ]
  },
  {
   "cell_type": "code",
   "execution_count": 9,
   "id": "fc9113de-3d9b-4e46-b20a-e8e10ded95c7",
   "metadata": {},
   "outputs": [
    {
     "data": {
      "text/plain": [
       "list"
      ]
     },
     "execution_count": 9,
     "metadata": {},
     "output_type": "execute_result"
    }
   ],
   "source": [
    "#Q. Compare and contrast mutable and immutable objects in Python with examples.\n",
    "'''\n",
    "objects/container whose state or value can be changed after they are created are called as mutable objects or container, \n",
    "list is a type of mutable object/supports item assignment\n",
    "'''\n",
    "l=[\"daal\",1,3,6,\"Deo\"]  #created a list which can store different types of data\n",
    "type(l) #checking the type as we know that list comes under sequence data type"
   ]
  },
  {
   "cell_type": "code",
   "execution_count": 10,
   "id": "05ea0d4c-0e80-4887-89fd-f52f016c3618",
   "metadata": {},
   "outputs": [
    {
     "data": {
      "text/plain": [
       "['daal', 1, 3, 6, 'Deo']"
      ]
     },
     "execution_count": 10,
     "metadata": {},
     "output_type": "execute_result"
    }
   ],
   "source": [
    "l"
   ]
  },
  {
   "cell_type": "code",
   "execution_count": 7,
   "id": "205c3150-51ba-4e07-9a85-e7bb255573bb",
   "metadata": {},
   "outputs": [
    {
     "data": {
      "text/plain": [
       "3"
      ]
     },
     "execution_count": 7,
     "metadata": {},
     "output_type": "execute_result"
    }
   ],
   "source": [
    "l[2] #accessing it's element at index 2\n"
   ]
  },
  {
   "cell_type": "code",
   "execution_count": 8,
   "id": "ab925168-759f-4777-869e-28155b861349",
   "metadata": {},
   "outputs": [
    {
     "data": {
      "text/plain": [
       "['daal', 1, 4.5, 6, 'Deo']"
      ]
     },
     "execution_count": 8,
     "metadata": {},
     "output_type": "execute_result"
    }
   ],
   "source": [
    "l[2]=4.5 #changing value at index 2 after creation\n",
    "l        #agin printing list l"
   ]
  },
  {
   "cell_type": "code",
   "execution_count": 11,
   "id": "dd535b9d-5934-4067-a727-7a7d995fe1b5",
   "metadata": {},
   "outputs": [
    {
     "data": {
      "text/plain": [
       "str"
      ]
     },
     "execution_count": 11,
     "metadata": {},
     "output_type": "execute_result"
    }
   ],
   "source": [
    "'''\n",
    "objects/container whose state or value can not be changed after they are created are called as immutable objects or \n",
    "container, string is a type of immutable object/ doesn't support item assignment\n",
    "'''\n",
    "b=\"Debjit\"   #b is sting data type variable\n",
    "type(b)    #checking it's type"
   ]
  },
  {
   "cell_type": "code",
   "execution_count": 12,
   "id": "125fc1f5-2c03-46a6-ba37-064936b2642c",
   "metadata": {},
   "outputs": [
    {
     "data": {
      "text/plain": [
       "'D'"
      ]
     },
     "execution_count": 12,
     "metadata": {},
     "output_type": "execute_result"
    }
   ],
   "source": [
    "b[0]  #accessing it's element at index 0"
   ]
  },
  {
   "cell_type": "code",
   "execution_count": 13,
   "id": "ed25334c-db4b-4f4f-b62a-eb77cff20b37",
   "metadata": {},
   "outputs": [
    {
     "data": {
      "text/plain": [
       "'t'"
      ]
     },
     "execution_count": 13,
     "metadata": {},
     "output_type": "execute_result"
    }
   ],
   "source": [
    "b[-1]  #it supports negative indexing also"
   ]
  },
  {
   "cell_type": "code",
   "execution_count": 14,
   "id": "6f7ead36-f1be-4b56-8d81-601a9b83cf16",
   "metadata": {},
   "outputs": [
    {
     "data": {
      "text/plain": [
       "'b'"
      ]
     },
     "execution_count": 14,
     "metadata": {},
     "output_type": "execute_result"
    }
   ],
   "source": [
    "b[2]  #accessing it's element at index 2"
   ]
  },
  {
   "cell_type": "code",
   "execution_count": 15,
   "id": "70b36bed-90a9-42a1-b701-1c7542db45f6",
   "metadata": {},
   "outputs": [
    {
     "ename": "TypeError",
     "evalue": "'str' object does not support item assignment",
     "output_type": "error",
     "traceback": [
      "\u001b[0;31m---------------------------------------------------------------------------\u001b[0m",
      "\u001b[0;31mTypeError\u001b[0m                                 Traceback (most recent call last)",
      "Cell \u001b[0;32mIn[15], line 1\u001b[0m\n\u001b[0;32m----> 1\u001b[0m \u001b[43mb\u001b[49m\u001b[43m[\u001b[49m\u001b[38;5;241;43m2\u001b[39;49m\u001b[43m]\u001b[49m\u001b[38;5;241m=\u001b[39m\u001b[38;5;124m\"\u001b[39m\u001b[38;5;124mh\u001b[39m\u001b[38;5;124m\"\u001b[39m\n",
      "\u001b[0;31mTypeError\u001b[0m: 'str' object does not support item assignment"
     ]
    }
   ],
   "source": [
    "b[2]=\"h\"  #error shows it's immutibility character"
   ]
  },
  {
   "cell_type": "code",
   "execution_count": 58,
   "id": "3b746c25-08e7-4c57-a5d0-ea93ed1238c6",
   "metadata": {},
   "outputs": [
    {
     "name": "stdout",
     "output_type": "stream",
     "text": [
      "Output of a+b is 15.53\n",
      "Output of a-b is 6.23\n",
      "Output of a%b is 1.58\n",
      "Output of a+b is 2.34\n",
      "Output of a+b is 50.59\n",
      "Output of a+b is 66118.71\n"
     ]
    }
   ],
   "source": [
    "#Q. Discuss the different types of operators in Python and provide examples of how they are used\n",
    "'''\n",
    "Arithmetic Operators\n",
    "'''\n",
    "a=10.88\n",
    "b=4.65\n",
    "print(f\"Output of a+b is {round((a+b),2)}\",sep=\"  \",end=\"\\n\")\n",
    "print(f\"Output of a-b is {a-b}\",sep=\"  \",end=\"\\n\")\n",
    "print(f\"Output of a%b is {a%b}\",sep=\"  \",end=\"\\n\")\n",
    "print(f\"Output of a+b is {round((a/b),2)}\",sep=\"  \",end=\"\\n\")\n",
    "print(f\"Output of a+b is {round((a*b),2)}\",sep=\"  \",end=\"\\n\")\n",
    "print(f\"Output of a+b is {round((a**b),2)}\",sep=\"  \",end=\"\\n\")"
   ]
  },
  {
   "cell_type": "code",
   "execution_count": 43,
   "id": "2aa38c9a-73c5-4b92-a39a-d9b816a2448a",
   "metadata": {},
   "outputs": [
    {
     "name": "stdout",
     "output_type": "stream",
     "text": [
      "False\n",
      "True\n",
      "True\n",
      "False\n",
      "True\n",
      "False\n"
     ]
    }
   ],
   "source": [
    "'''\n",
    "Comparison Operator\n",
    "'''\n",
    "c=45\n",
    "d=23\n",
    "print(a==b)\n",
    "print(a!=b)\n",
    "print(a>b)\n",
    "print(a<b)\n",
    "print(a>=b)\n",
    "print(a<=b)"
   ]
  },
  {
   "cell_type": "code",
   "execution_count": 53,
   "id": "6790ee4f-9f4d-4b8c-83e2-d7f8803010ff",
   "metadata": {},
   "outputs": [
    {
     "name": "stdout",
     "output_type": "stream",
     "text": [
      "0b1010\n",
      "0b1000\n",
      "And Operation = 8  Binary Value-->0b1000\n",
      "Or Operation = 10  Binary Value-->0b1010\n",
      "Not Operation = False  Binary Value-->0b0\n"
     ]
    }
   ],
   "source": [
    "'''\n",
    "Logical Operators\n",
    "'''\n",
    "e=10\n",
    "f=8\n",
    "g=True\n",
    "print(bin(e))\n",
    "print(bin(f))\n",
    "print(f\"And Operation = {e and f}\",f\"Binary Value-->{bin(e and f)}\",sep=\"  \",end=\"\\n\")\n",
    "print(f\"Or Operation = {e or f}\",f\"Binary Value-->{bin(e or f)}\",sep=\"  \",end=\"\\n\")\n",
    "print(f\"Not Operation = {not g}\",f\"Binary Value-->{bin(not g)}\",sep=\"  \",end=\"\\n\")"
   ]
  },
  {
   "cell_type": "code",
   "execution_count": 54,
   "id": "651e5535-269d-4cbc-bea9-3bd8ee0dc168",
   "metadata": {},
   "outputs": [
    {
     "name": "stdout",
     "output_type": "stream",
     "text": [
      "0b1010\n",
      "0b1000\n",
      "Bitwise and Operation = 8  Binary Value-->0b1000\n",
      "Bitwise or Operation = 10  Binary Value-->0b1010\n",
      "Bitwise not Operation = -9  Binary Value-->-0b1001\n",
      "Bitwise xor Operation = 2  Binary Value-->0b10\n",
      "Bitwise leftshift Operation = 2560  Binary Value-->0b101000000000\n",
      "Bitwise rightshift Operation = 0  Binary Value-->0b0\n"
     ]
    }
   ],
   "source": [
    "'''\n",
    "Bitwise Operators\n",
    "'''\n",
    "e=10\n",
    "f=8\n",
    "print(bin(e))\n",
    "print(bin(f))\n",
    "print(f\"Bitwise and Operation = {e & f}\",f\"Binary Value-->{bin(e & f)}\",sep=\"  \",end=\"\\n\")\n",
    "print(f\"Bitwise or Operation = {e | f}\",f\"Binary Value-->{bin(e | f)}\",sep=\"  \",end=\"\\n\")\n",
    "print(f\"Bitwise not Operation = { ~f}\",f\"Binary Value-->{bin(~f)}\",sep=\"  \",end=\"\\n\")\n",
    "print(f\"Bitwise xor Operation = {e ^ f}\",f\"Binary Value-->{bin(e ^ f)}\",sep=\"  \",end=\"\\n\")\n",
    "print(f\"Bitwise leftshift Operation = {e << f}\",f\"Binary Value-->{bin(e << f)}\",sep=\"  \",end=\"\\n\")\n",
    "print(f\"Bitwise rightshift Operation = {e >> f}\",f\"Binary Value-->{bin(e >> f)}\",sep=\"  \",end=\"\\n\")"
   ]
  },
  {
   "cell_type": "code",
   "execution_count": 77,
   "id": "90b4d02f-3206-45a4-9c34-80d1e58a2938",
   "metadata": {},
   "outputs": [
    {
     "name": "stdout",
     "output_type": "stream",
     "text": [
      "Typecasting>> implicit\n",
      "<class 'bool'>\n",
      "<class 'int'>\n",
      "8\n",
      "<class 'int'>\n",
      "------------------------------\n",
      "<class 'float'>\n",
      "<class 'int'>\n",
      "12.5\n",
      "<class 'float'>\n",
      "------------------------------\n",
      "<class 'bool'>\n",
      "<class 'float'>\n",
      "8.6\n",
      "<class 'float'>\n",
      "------------------------------\n",
      "explicit typecasting >> convert data type using inbuilt functiond>> str, int, float, bool\n",
      "<class 'float'>\n",
      "3\n",
      "<class 'int'>\n",
      "------------------------------\n",
      "<class 'str'>\n",
      "123\n",
      "<class 'int'>\n",
      "------------------------------\n",
      "<class 'bool'>\n",
      "1\n",
      "<class 'int'>\n"
     ]
    }
   ],
   "source": [
    "#Q. Explain the concept of type casting in Python with examples.\n",
    "'''\n",
    "Type casting/type conversion>> The preocess of changing the data type of a value/object\n",
    "why?while executing/computation using operators, there can be mismatch between the datatype\n",
    "'''\n",
    "\n",
    "print(\"Typecasting>> implicit\")\n",
    "x=True\n",
    "y=7\n",
    "r=x+y\n",
    "print(type(x))\n",
    "print(type(y))\n",
    "print(r)\n",
    "print(type(r))\n",
    "print(\"------------------------------\")\n",
    "x=5.5\n",
    "y=7\n",
    "r=x+y\n",
    "print(type(x))\n",
    "print(type(y))\n",
    "print(r)\n",
    "print(type(r))\n",
    "print(\"------------------------------\")\n",
    "x=True\n",
    "y=7.6\n",
    "r=x+y\n",
    "print(type(x))\n",
    "print(type(y))\n",
    "print(r)\n",
    "print(type(r))\n",
    "print(\"------------------------------\")\n",
    "print(\"explicit typecasting >> convert data type using inbuilt functiond>> str, int, float, bool\")\n",
    "x = 3.14\n",
    "print(type(x))\n",
    "y = int(x)  # Convert float to integer, truncating decimal part\n",
    "print(y)\n",
    "print(type(y))\n",
    "print(\"------------------------------\")\n",
    "s = \"123\"\n",
    "print(type(s))\n",
    "n = int(s)  # Convert string to integer\n",
    "print(n)  \n",
    "print(type(n))\n",
    "print(\"------------------------------\")\n",
    "flag = True\n",
    "print(type(flag))\n",
    "integer_value = int(flag)  # Convert boolean to integer (1 for True, 0 for False)\n",
    "print(integer_value)  \n",
    "print(type(integer_value))"
   ]
  },
  {
   "cell_type": "code",
   "execution_count": 78,
   "id": "cde476b7-df23-4e0e-ae73-b7cd49260cf7",
   "metadata": {},
   "outputs": [
    {
     "name": "stdin",
     "output_type": "stream",
     "text": [
      "Enter your examination marks: 74\n"
     ]
    },
    {
     "name": "stdout",
     "output_type": "stream",
     "text": [
      "Grade C\n"
     ]
    }
   ],
   "source": [
    "#Q.  How do conditional statements work in Python? Illustrate with examples.\n",
    "'''\n",
    "Conditional statements >> helps you to code decisions based on some preconditions\n",
    "if\n",
    "if else\n",
    "if elif else\n",
    "nested if else\n",
    "'''\n",
    "exam_marks=int(input(\"Enter your examination marks:\"))\n",
    "if exam_marks>90:\n",
    "    print(\"Grade A\")\n",
    "elif 90>=exam_marks>80:\n",
    "    print(\"Grade B\")\n",
    "elif 60<=exam_marks<=80:\n",
    "    print(\"Grade C\")\n",
    "else:\n",
    "    print(\"Fail\")"
   ]
  },
  {
   "cell_type": "code",
   "execution_count": 82,
   "id": "5ee60839-d94e-4c3f-b662-6364e03b2759",
   "metadata": {},
   "outputs": [
    {
     "name": "stdout",
     "output_type": "stream",
     "text": [
      "While Loop\n",
      "1\n",
      "2\n",
      "3\n",
      "4\n",
      "5\n",
      "6\n",
      "------------------------------\n",
      "For Loop\n",
      "p\n",
      "w\n",
      "s\n",
      "k\n",
      "i\n",
      "l\n",
      "l\n",
      "s\n"
     ]
    }
   ],
   "source": [
    "#Q. Descsibe the different types of loops in Python and their use cases with examples.\n",
    "\n",
    "print(\"While Loop\")\n",
    "n = 7\n",
    "i = 1\n",
    "while i < n:\n",
    "    print(i)\n",
    "    i = i+1\n",
    "    \n",
    "print(\"------------------------------\")\n",
    "print(\"For Loop\")\n",
    "for i in \"pwskills\":\n",
    "    print(i)"
   ]
  },
  {
   "cell_type": "code",
   "execution_count": null,
   "id": "60438bde-8b39-4246-ade5-4cccf617f768",
   "metadata": {},
   "outputs": [],
   "source": []
  }
 ],
 "metadata": {
  "kernelspec": {
   "display_name": "Python 3 (ipykernel)",
   "language": "python",
   "name": "python3"
  },
  "language_info": {
   "codemirror_mode": {
    "name": "ipython",
    "version": 3
   },
   "file_extension": ".py",
   "mimetype": "text/x-python",
   "name": "python",
   "nbconvert_exporter": "python",
   "pygments_lexer": "ipython3",
   "version": "3.10.8"
  }
 },
 "nbformat": 4,
 "nbformat_minor": 5
}
