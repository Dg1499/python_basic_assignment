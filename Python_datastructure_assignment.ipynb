{
 "cells": [
  {
   "cell_type": "code",
   "execution_count": 4,
   "id": "48b04e96-1ac4-4885-9b05-5cbd2fbff4e7",
   "metadata": {},
   "outputs": [
    {
     "name": "stdout",
     "output_type": "stream",
     "text": [
      "M\n",
      " \n",
      "m\n",
      "24\n"
     ]
    }
   ],
   "source": [
    "#Q. Discuss string slicing and provide examples.\n",
    "'''\n",
    "String slicing in Python allows you to extract a portion of a string by specifying a start and end index. \n",
    "string[start:end]: Slices a substring from the given indices.\n",
    "string[start:end:step]\n",
    "'''\n",
    "ab=\"My name is Debjit Ghorai\"\n",
    "print(ab[0])\n",
    "print(ab[2])\n",
    "print(ab[5])\n",
    "print(len(ab))\n"
   ]
  },
  {
   "cell_type": "code",
   "execution_count": 2,
   "id": "eba9a062-4ff3-41fe-8dfa-3768495f8de7",
   "metadata": {},
   "outputs": [
    {
     "data": {
      "text/plain": [
       "'My name is Debjit Ghorai'"
      ]
     },
     "execution_count": 2,
     "metadata": {},
     "output_type": "execute_result"
    }
   ],
   "source": [
    "ab[0:] #starts from 0th index means M and ends at last because it is not mentioned"
   ]
  },
  {
   "cell_type": "code",
   "execution_count": 3,
   "id": "4ebff811-913b-4823-93cf-2d4075419271",
   "metadata": {},
   "outputs": [
    {
     "data": {
      "text/plain": [
       "'My name is Debjit Ghora'"
      ]
     },
     "execution_count": 3,
     "metadata": {},
     "output_type": "execute_result"
    }
   ],
   "source": [
    "ab[:-1] #ends at -1th index means i but this portion is exclusive so from starts to end will be printed except i"
   ]
  },
  {
   "cell_type": "code",
   "execution_count": 6,
   "id": "0426245d-7cfe-4e96-82c7-fe8ba7dd7403",
   "metadata": {},
   "outputs": [
    {
     "data": {
      "text/plain": [
       "'My name is Debjit Ghora'"
      ]
     },
     "execution_count": 6,
     "metadata": {},
     "output_type": "execute_result"
    }
   ],
   "source": [
    "ab[0:23] #same like ab[:-1]"
   ]
  },
  {
   "cell_type": "code",
   "execution_count": 7,
   "id": "47504cf7-e36c-470d-82db-35040037aaeb",
   "metadata": {},
   "outputs": [
    {
     "data": {
      "text/plain": [
       "'me is Debjit Ghorai'"
      ]
     },
     "execution_count": 7,
     "metadata": {},
     "output_type": "execute_result"
    }
   ],
   "source": [
    "ab[5:] #starts from 5th index means m and ends at last because it is not mentioned"
   ]
  },
  {
   "cell_type": "code",
   "execution_count": 9,
   "id": "a77605f6-df81-4106-856f-f1bc1b9f2502",
   "metadata": {},
   "outputs": [
    {
     "data": {
      "text/plain": [
       "'My name is Debjit Gh'"
      ]
     },
     "execution_count": 9,
     "metadata": {},
     "output_type": "execute_result"
    }
   ],
   "source": [
    "ab[:-4] #ends at -4th index means o but this portion is exclusive so from starts to h will be printed except o"
   ]
  },
  {
   "cell_type": "code",
   "execution_count": 10,
   "id": "b8bf83a4-0bc3-4775-ad46-1224238be644",
   "metadata": {},
   "outputs": [
    {
     "data": {
      "text/plain": [
       "'orai'"
      ]
     },
     "execution_count": 10,
     "metadata": {},
     "output_type": "execute_result"
    }
   ],
   "source": [
    "ab[-4:]  #starts at -4th index and ends at i as last is not mentioned"
   ]
  },
  {
   "cell_type": "code",
   "execution_count": 11,
   "id": "788fb3ac-0b4d-4943-a438-14009439cfd4",
   "metadata": {},
   "outputs": [
    {
     "data": {
      "text/plain": [
       "'My na'"
      ]
     },
     "execution_count": 11,
     "metadata": {},
     "output_type": "execute_result"
    }
   ],
   "source": [
    "ab[:5]  #ends at 5th index but not inciuded"
   ]
  },
  {
   "cell_type": "code",
   "execution_count": 12,
   "id": "4275be6f-62b8-4ba2-94db-415f2027641f",
   "metadata": {},
   "outputs": [
    {
     "data": {
      "text/plain": [
       "'iarohG tijbeD si eman yM'"
      ]
     },
     "execution_count": 12,
     "metadata": {},
     "output_type": "execute_result"
    }
   ],
   "source": [
    "ab[::-1]  #reverse the string or print from starts to end with -1 step"
   ]
  },
  {
   "cell_type": "code",
   "execution_count": 19,
   "id": "f7b1d3c2-dcb2-4f70-9fc7-16be7a204f63",
   "metadata": {},
   "outputs": [
    {
     "data": {
      "text/plain": [
       "'irh ibDs mny'"
      ]
     },
     "execution_count": 19,
     "metadata": {},
     "output_type": "execute_result"
    }
   ],
   "source": [
    "ab[::-2] "
   ]
  },
  {
   "cell_type": "code",
   "execution_count": 14,
   "id": "c90dd16d-1c97-43df-bf48-d2971fb641cc",
   "metadata": {},
   "outputs": [
    {
     "data": {
      "text/plain": [
       "'My name is Debjit Ghorai'"
      ]
     },
     "execution_count": 14,
     "metadata": {},
     "output_type": "execute_result"
    }
   ],
   "source": [
    " ab[0:24:1] #same like ab[0:]"
   ]
  },
  {
   "cell_type": "code",
   "execution_count": 15,
   "id": "5c068dcc-3ec0-4810-bbe4-25ae30528b9e",
   "metadata": {},
   "outputs": [
    {
     "data": {
      "text/plain": [
       "'M aei ejtGoa'"
      ]
     },
     "execution_count": 15,
     "metadata": {},
     "output_type": "execute_result"
    }
   ],
   "source": [
    "ab[0:24:2] #prints with 2 step"
   ]
  },
  {
   "cell_type": "code",
   "execution_count": 16,
   "id": "836fa197-da46-4dc9-90b5-3484f3171181",
   "metadata": {},
   "outputs": [
    {
     "data": {
      "text/plain": [
       "'MneseiGr'"
      ]
     },
     "execution_count": 16,
     "metadata": {},
     "output_type": "execute_result"
    }
   ],
   "source": [
    "ab[0:24:3] #prints with 3 step"
   ]
  },
  {
   "cell_type": "code",
   "execution_count": 17,
   "id": "c9a932c7-7caf-4465-b12a-9ca880f78936",
   "metadata": {},
   "outputs": [
    {
     "data": {
      "text/plain": [
       "' name '"
      ]
     },
     "execution_count": 17,
     "metadata": {},
     "output_type": "execute_result"
    }
   ],
   "source": [
    "ab[2:8]"
   ]
  },
  {
   "cell_type": "code",
   "execution_count": 18,
   "id": "88a97312-95ac-4b05-bbf3-2454041f3b30",
   "metadata": {},
   "outputs": [
    {
     "data": {
      "text/plain": [
       "'t Ghor'"
      ]
     },
     "execution_count": 18,
     "metadata": {},
     "output_type": "execute_result"
    }
   ],
   "source": [
    "ab[-8:-2]"
   ]
  },
  {
   "cell_type": "code",
   "execution_count": null,
   "id": "f701875e-cec0-43ca-be21-e26ec7fb6eb5",
   "metadata": {},
   "outputs": [],
   "source": []
  }
 ],
 "metadata": {
  "kernelspec": {
   "display_name": "Python 3 (ipykernel)",
   "language": "python",
   "name": "python3"
  },
  "language_info": {
   "codemirror_mode": {
    "name": "ipython",
    "version": 3
   },
   "file_extension": ".py",
   "mimetype": "text/x-python",
   "name": "python",
   "nbconvert_exporter": "python",
   "pygments_lexer": "ipython3",
   "version": "3.10.8"
  }
 },
 "nbformat": 4,
 "nbformat_minor": 5
}
